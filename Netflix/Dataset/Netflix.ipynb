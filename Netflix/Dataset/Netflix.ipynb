{
 "cells": [
  {
   "cell_type": "code",
   "execution_count": null,
   "id": "5594f4e3-df84-4e7e-9513-6ec589316329",
   "metadata": {},
   "outputs": [],
   "source": [
    "#import libraries\n",
    "!pip install kaggle\n",
    "import kaggle\n",
    "\n",
    "!kaggle datasets download -d shivamb/netflix-shows"
   ]
  },
  {
   "cell_type": "code",
   "execution_count": 9,
   "id": "5dc31cf3-aafc-46c5-a578-75380580123e",
   "metadata": {},
   "outputs": [],
   "source": [
    "import zipfile\n",
    "zip_ref = zipfile.ZipFile('netflix-shows.zip') \n",
    "zip_ref.extractall() # extract file to dir\n",
    "zip_ref.close() # close file"
   ]
  },
  {
   "cell_type": "code",
   "execution_count": 2,
   "id": "43680467-de23-4611-b59e-cffd6194cbf3",
   "metadata": {},
   "outputs": [],
   "source": [
    "import pandas as pd \n",
    "df = pd.read_csv('netflix_titles.csv')"
   ]
  },
  {
   "cell_type": "code",
   "execution_count": 34,
   "id": "65c71a85-4515-4c56-ba1d-5d7050835d61",
   "metadata": {},
   "outputs": [],
   "source": [
    "import sqlalchemy as sal\n",
    "engine = sal.create_engine('mssql://DESKTOP-T4U1L50\\\\SQLEXPRESS/master?driver=ODBC+DRIVER+17+FOR+SQL+SERVER')\n",
    "conn=engine.connect()"
   ]
  },
  {
   "cell_type": "code",
   "execution_count": 35,
   "id": "dd633d50-4e38-4c88-b2e1-39dbf4b204e5",
   "metadata": {},
   "outputs": [],
   "source": [
    "df.to_sql('netflix_raw', con=conn , index=False, if_exists = 'append')\n",
    "conn.close()"
   ]
  },
  {
   "cell_type": "code",
   "execution_count": null,
   "id": "4f7f0c5f-7a54-46f6-9a1b-1a289d5a3276",
   "metadata": {},
   "outputs": [],
   "source": []
  }
 ],
 "metadata": {
  "kernelspec": {
   "display_name": "Python 3 (ipykernel)",
   "language": "python",
   "name": "python3"
  },
  "language_info": {
   "codemirror_mode": {
    "name": "ipython",
    "version": 3
   },
   "file_extension": ".py",
   "mimetype": "text/x-python",
   "name": "python",
   "nbconvert_exporter": "python",
   "pygments_lexer": "ipython3",
   "version": "3.12.4"
  }
 },
 "nbformat": 4,
 "nbformat_minor": 5
}
